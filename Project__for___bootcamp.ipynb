{
  "nbformat": 4,
  "nbformat_minor": 0,
  "metadata": {
    "colab": {
      "name": "Project_ for _ bootcamp.ipynb",
      "provenance": [],
      "toc_visible": true
    },
    "kernelspec": {
      "name": "python3",
      "display_name": "Python 3"
    },
    "language_info": {
      "name": "python"
    }
  },
  "cells": [
    {
      "cell_type": "code",
      "metadata": {
        "colab": {
          "base_uri": "https://localhost:8080/"
        },
        "id": "ZNGHespfKWGU",
        "outputId": "4b159cff-056d-4380-b6ea-8fb0a7262523"
      },
      "source": [
        " import hashlib \n",
        "result=hashlib.md5(b\"Debasmita\")\n",
        "print(\"The byte equivalent of hash is: \",end=\" \")\n",
        "print(result.digest())"
      ],
      "execution_count": null,
      "outputs": [
        {
          "output_type": "stream",
          "text": [
            "The byte equivalent of hash is:  b'}0^mbB6\\x06\\xf3\\x06l\\xd1#\\xf8\\x13='\n"
          ],
          "name": "stdout"
        }
      ]
    },
    {
      "cell_type": "code",
      "metadata": {
        "id": "XAEfBivmLJZ0",
        "colab": {
          "base_uri": "https://localhost:8080/"
        },
        "outputId": "ead0ed52-131f-4501-c622-0f3f16662f70"
      },
      "source": [
        " import hashlib \n",
        "result = hashlib.md5(b\"Network Security\").hexdigest() \n",
        "print(result) \n",
        "result = hashlib.md5(\"Network Security\".encode(\"utf-8\")).hexdigest() \n",
        "print(result) \n",
        "m = hashlib.md5(b\"Network security\") \n",
        "print(m.name) \n",
        "print(m.digest_size) # 16 bytes (128 bits) \n",
        "print(m.digest())    # bytes \n",
        "print(m.hexdigest()) # bytes in hex representation"
      ],
      "execution_count": 2,
      "outputs": [
        {
          "output_type": "stream",
          "text": [
            "e9609b040993009e0e36b9a4d7161b87\n",
            "e9609b040993009e0e36b9a4d7161b87\n",
            "md5\n",
            "16\n",
            "b'>$\\xdf\\x1ef\\xd4\\xa7A\\x80KOVD\\xa0(\\xaf'\n",
            "3e24df1e66d4a741804b4f5644a028af\n"
          ],
          "name": "stdout"
        }
      ]
    },
    {
      "cell_type": "code",
      "metadata": {
        "id": "_A2fhI9fNQQQ",
        "colab": {
          "base_uri": "https://localhost:8080/"
        },
        "outputId": "d216274e-adaf-42af-8708-da2bb6be2d33"
      },
      "source": [
        " \n",
        "import hashlib\n",
        " \n",
        "# encode it to bytes using UTF-8 encoding\n",
        "message = \"Some text to hash\".encode()\n",
        " \n",
        "# hash with MD5 (not recommended)\n",
        "print(\"MD5:\", hashlib.md5(message).hexdigest())\n",
        " \n",
        "# hash with SHA-2 (SHA-256 & SHA-512)\n",
        "print(\"SHA-256:\", hashlib.sha256(message).hexdigest())\n",
        " \n",
        "print(\"SHA-512:\", hashlib.sha512(message).hexdigest())\n",
        " \n",
        "# hash with SHA-3\n",
        "print(\"SHA-3-256:\", hashlib.sha3_256(message).hexdigest())\n",
        " \n",
        "print(\"SHA-3-512:\", hashlib.sha3_512(message).hexdigest())\n",
        " \n",
        "# hash with BLAKE2\n",
        "# 256-bit BLAKE2 (or BLAKE2s)\n",
        "print(\"BLAKE2c:\", hashlib.blake2s(message).hexdigest())\n",
        "# 512-bit BLAKE2 (or BLAKE2b)\n",
        "print(\"BLAKE2b:\", hashlib.blake2b(message).hexdigest())"
      ],
      "execution_count": 3,
      "outputs": [
        {
          "output_type": "stream",
          "text": [
            "MD5: 3eecc85e6440899b28a9ea6d8369f01c\n",
            "SHA-256: 7a86e0e93e6aa6cf49f19368ca7242e24640a988ac8e5508dfcede39fa53faa2\n",
            "SHA-512: 96fa772f72678c85bbd5d23b66d51d50f8f9824a0aba0ded624ab61fe8b602bf4e3611075fe13595d3e74c63c59f7d79241acc97888e9a7a5c791159c85c3ccd\n",
            "SHA-3-256: d7007c1cd52f8168f22fa25ef011a5b3644bcb437efa46de34761d3340187609\n",
            "SHA-3-512: de6b4c8f7d4fd608987c123122bcc63081372d09b4bc14955bfc828335dec1246b5c6633c5b1c87d2ad2b777d713d7777819263e7ad675a3743bf2a35bc699d0\n",
            "BLAKE2c: 6889074426b5454d751547cd33ca4c64cd693f86ce69be5c951223f3af845786\n",
            "BLAKE2b: 13e2ca8f6a282f27b2022dde683490b1085b3e16a98ee77b44b25bc84a0366afe8d70a4aa47dd10e064f1f772573513d64d56e5ef646fb935c040b32f67e5ab2\n"
          ],
          "name": "stdout"
        }
      ]
    }
  ]
}